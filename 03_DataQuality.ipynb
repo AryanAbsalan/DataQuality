{
 "cells": [
  {
   "cell_type": "code",
   "execution_count": 4,
   "metadata": {},
   "outputs": [
    {
     "name": "stdout",
     "output_type": "stream",
     "text": [
      "True\n",
      "True\n",
      "True\n",
      "False\n"
     ]
    }
   ],
   "source": [
    "def word_detection(search_for, phrase):\n",
    "    for word in search_for :\n",
    "        if word in phrase:\n",
    "            return True\n",
    "    return False\n",
    "\n",
    "\n",
    "def word_detection2(search_for, phrase):\n",
    "    for word in search_for :\n",
    "        if ' ' + word + ' ' in phrase :\n",
    "            return True\n",
    "    return False\n",
    "\n",
    "print(word_detection(search_for = ['be'], phrase = \"Don't be afraid to go outside the box.\"))\n",
    "print(word_detection(search_for = ['be'], phrase = \"You are the best\"))\n",
    "\n",
    "print(word_detection2(search_for = ['be'], phrase = \"Don't be afraid to go outside the box.\"))\n",
    "print(word_detection2(search_for = ['be'], phrase = \"You are the best\"))\n"
   ]
  },
  {
   "cell_type": "code",
   "execution_count": 5,
   "metadata": {},
   "outputs": [
    {
     "name": "stdout",
     "output_type": "stream",
     "text": [
      "[' word ', ' word,', ' word:', ' word;', ' word.', 'Word ', 'Word,', 'Word:', 'Word;', 'Word.']\n"
     ]
    }
   ],
   "source": [
    "Special_characters = [',', ':', ';', '.']\n",
    "\n",
    "def search_options (word):\n",
    "    Liste = []\n",
    "\n",
    "    # \" word \"\n",
    "    Liste.append(' ' + word + ' ')\n",
    "\n",
    "    for carac in Special_characters :      \n",
    "        Liste.append(' ' + word + carac)\n",
    "\n",
    "    # \"Word \"\n",
    "    Liste.append(word.capitalize() + ' ')\n",
    "\n",
    "    for carac in Special_characters :\n",
    "        Liste.append(word.capitalize() + carac)\n",
    "\n",
    "    return Liste\n",
    "\n",
    "print(search_options(word = 'word'))\n"
   ]
  },
  {
   "cell_type": "code",
   "execution_count": 6,
   "metadata": {},
   "outputs": [
    {
     "name": "stdout",
     "output_type": "stream",
     "text": [
      "True\n",
      "False\n"
     ]
    }
   ],
   "source": [
    "print(word_detection(search_for = search_options(word = 'be'), phrase=\"Don't be afraid to go outside the box\"))\n",
    "\n",
    "print(word_detection(search_for = search_options(word = 'be'), phrase=\"You are the best\"))"
   ]
  },
  {
   "cell_type": "code",
   "execution_count": 8,
   "metadata": {},
   "outputs": [
    {
     "name": "stdout",
     "output_type": "stream",
     "text": [
      "6 accidents involve at least one truck\n",
      "At least 60.0 % of accidents involve trucks\n"
     ]
    }
   ],
   "source": [
    "import pandas as pd\n",
    "\n",
    "\n",
    "# Sample dataset creation\n",
    "data = {\n",
    "    'Description': [\n",
    "        'A truck collided with a car on the highway.',\n",
    "        'Several trucks were involved in the accident.',\n",
    "        'A bike hit a pedestrian at the crosswalk.',\n",
    "        'The bus was hit by a speeding truck.',\n",
    "        'A car skidded off the road due to ice.',\n",
    "        'Trucks often cause congestion on this road.',\n",
    "        'A motorcycle crash resulted in severe injuries.',\n",
    "        'The truck overturned causing a major pile-up.',\n",
    "        'Multiple cars were involved in the accident.',\n",
    "        'The pedestrian was hit by a delivery truck.',\n",
    "    ]\n",
    "}\n",
    "\n",
    "# Create the DataFrame\n",
    "accidents = pd.DataFrame(data)\n",
    "\n",
    "# Initialize counter\n",
    "n = 0\n",
    "\n",
    "# Generate variations of the word \"truck\"\n",
    "variations_of_word_truck = search_options('truck') + search_options('trucks')\n",
    "\n",
    "# Count descriptions mentioning a truck\n",
    "for line in accidents['Description']:\n",
    "    for key in variations_of_word_truck:\n",
    "        if key in line:\n",
    "            n += 1\n",
    "            break # once we find one mention of a truck in the description, we move to the next row\n",
    "\n",
    "# Print the results\n",
    "print(n, 'accidents involve at least one truck')\n",
    "print('At least', n / len(accidents) * 100, '% of accidents involve trucks')\n"
   ]
  },
  {
   "cell_type": "code",
   "execution_count": 9,
   "metadata": {},
   "outputs": [
    {
     "data": {
      "text/plain": [
       "{' street ': ' St ',\n",
       " ' street,': ' St,',\n",
       " ' street:': ' St:',\n",
       " ' street;': ' St;',\n",
       " ' street.': ' St.',\n",
       " 'Street ': 'St ',\n",
       " 'Street,': 'St,',\n",
       " 'Street:': 'St:',\n",
       " 'Street;': 'St;',\n",
       " 'Street.': 'St.',\n",
       " ' avenue ': ' Ave ',\n",
       " ' avenue,': ' Ave,',\n",
       " ' avenue:': ' Ave:',\n",
       " ' avenue;': ' Ave;',\n",
       " ' avenue.': ' Ave.',\n",
       " 'Avenue ': 'Ave ',\n",
       " 'Avenue,': 'Ave,',\n",
       " 'Avenue:': 'Ave:',\n",
       " 'Avenue;': 'Ave;',\n",
       " 'Avenue.': 'Ave.',\n",
       " ' road ': ' Rd ',\n",
       " ' road,': ' Rd,',\n",
       " ' road:': ' Rd:',\n",
       " ' road;': ' Rd;',\n",
       " ' road.': ' Rd.',\n",
       " 'Road ': 'Rd ',\n",
       " 'Road,': 'Rd,',\n",
       " 'Road:': 'Rd:',\n",
       " 'Road;': 'Rd;',\n",
       " 'Road.': 'Rd.',\n",
       " ' boulevard ': ' Blvd ',\n",
       " ' boulevard,': ' Blvd,',\n",
       " ' boulevard:': ' Blvd:',\n",
       " ' boulevard;': ' Blvd;',\n",
       " ' boulevard.': ' Blvd.',\n",
       " 'Boulevard ': 'Blvd ',\n",
       " 'Boulevard,': 'Blvd,',\n",
       " 'Boulevard:': 'Blvd:',\n",
       " 'Boulevard;': 'Blvd;',\n",
       " 'Boulevard.': 'Blvd.'}"
      ]
     },
     "execution_count": 9,
     "metadata": {},
     "output_type": "execute_result"
    }
   ],
   "source": [
    "dict = {'street':'St', \n",
    "        'avenue':'Ave', \n",
    "        'road':'Rd', \n",
    "        'boulevard': 'Blvd'}\n",
    "\n",
    "trad={}\n",
    "\n",
    "for key in dict :\n",
    "    for key, traduction in zip(search_options(key), search_options(dict[key])):\n",
    "        trad[key]=traduction\n",
    "        \n",
    "trad\n"
   ]
  },
  {
   "cell_type": "code",
   "execution_count": 10,
   "metadata": {},
   "outputs": [
    {
     "name": "stdout",
     "output_type": "stream",
     "text": [
      "Index: 0, Fruit: apple\n",
      "Index: 1, Fruit: banana\n",
      "Index: 2, Fruit: cherry\n"
     ]
    }
   ],
   "source": [
    "# Define a list\n",
    "fruits = ['apple', 'banana', 'cherry']\n",
    "\n",
    "# Use enumerate in a for loop\n",
    "for index, fruit in enumerate(fruits):\n",
    "    print(f\"Index: {index}, Fruit: {fruit}\")\n"
   ]
  },
  {
   "cell_type": "code",
   "execution_count": 21,
   "metadata": {},
   "outputs": [
    {
     "name": "stdout",
     "output_type": "stream",
     "text": [
      "Alice is 25 years old.\n",
      "Bob is 30 years old.\n",
      "Charlie is 35 years old.\n",
      "Diana is 40 years old.\n"
     ]
    }
   ],
   "source": [
    "names = [\"Alice\", \"Bob\", \"Charlie\", \"Diana\"]\n",
    "ages = [25, 30, 35, 40]\n",
    "\n",
    "# Using zip to combine the two lists\n",
    "for name, age in zip(names, ages):\n",
    "    print(f\"{name} is {age} years old.\")\n"
   ]
  },
  {
   "cell_type": "code",
   "execution_count": 12,
   "metadata": {},
   "outputs": [
    {
     "data": {
      "text/html": [
       "<div>\n",
       "<style scoped>\n",
       "    .dataframe tbody tr th:only-of-type {\n",
       "        vertical-align: middle;\n",
       "    }\n",
       "\n",
       "    .dataframe tbody tr th {\n",
       "        vertical-align: top;\n",
       "    }\n",
       "\n",
       "    .dataframe thead th {\n",
       "        text-align: right;\n",
       "    }\n",
       "</style>\n",
       "<table border=\"1\" class=\"dataframe\">\n",
       "  <thead>\n",
       "    <tr style=\"text-align: right;\">\n",
       "      <th></th>\n",
       "      <th>Description</th>\n",
       "    </tr>\n",
       "  </thead>\n",
       "  <tbody>\n",
       "    <tr>\n",
       "      <th>0</th>\n",
       "      <td>A truck collided with a CAR</td>\n",
       "    </tr>\n",
       "    <tr>\n",
       "      <th>1</th>\n",
       "      <td>A MOTORCYCLE hit a truck</td>\n",
       "    </tr>\n",
       "    <tr>\n",
       "      <th>2</th>\n",
       "      <td>A CAR crashed into a building</td>\n",
       "    </tr>\n",
       "    <tr>\n",
       "      <th>3</th>\n",
       "      <td>A BUS and a truck were involved in an accident</td>\n",
       "    </tr>\n",
       "  </tbody>\n",
       "</table>\n",
       "</div>"
      ],
      "text/plain": [
       "                                      Description\n",
       "0                     A truck collided with a CAR\n",
       "1                        A MOTORCYCLE hit a truck\n",
       "2                   A CAR crashed into a building\n",
       "3  A BUS and a truck were involved in an accident"
      ]
     },
     "execution_count": 12,
     "metadata": {},
     "output_type": "execute_result"
    }
   ],
   "source": [
    "# Sample data for accidents DataFrame\n",
    "data = {\n",
    "    'Description': [\n",
    "        'A truck collided with a car',\n",
    "        'A motorcycle hit a truck',\n",
    "        'A car crashed into a building',\n",
    "        'A bus and a truck were involved in an accident'\n",
    "    ]\n",
    "}\n",
    "\n",
    "# Create the DataFrame\n",
    "accidents = pd.DataFrame(data)\n",
    "\n",
    "# Dictionary containing keywords and their replacements\n",
    "trad = {\n",
    "    'truck': 'TRUCK',\n",
    "    'car': 'CAR',\n",
    "    'motorcycle': 'MOTORCYCLE',\n",
    "    'bus': 'BUS'\n",
    "}\n",
    "\n",
    "# Perform the replacement using the provided code snippet\n",
    "for i, line in enumerate(accidents['Description']):\n",
    "    for key in trad:\n",
    "        if key in line:\n",
    "            # replace the words in the 'Description' column with their replacements.\n",
    "            accidents.at[i, 'Description'] = line.replace(key, trad[key])\n",
    "\n",
    "accidents\n"
   ]
  },
  {
   "cell_type": "code",
   "execution_count": 20,
   "metadata": {},
   "outputs": [
    {
     "name": "stdout",
     "output_type": "stream",
     "text": [
      "A TRUCK hit a CAR on the highway.\n",
      "The MOTORCYCLE overtook the BUS quickly.\n",
      "A CAR and a MOTORCYCLE were involved in an accident.\n",
      "A TRUCK, a CAR, and a BUS were all damaged in the collision.\n",
      "The BUS stopped suddenly, causing the TRUCK to swerve.\n",
      "The MOTORCYCLE was faster than the CAR.\n",
      "A CAR collided with a MOTORCYCLE and a BUS.\n",
      "The TRUCK driver was unable to avoid the BUS.\n",
      "A MOTORCYCLE was parked behind a TRUCK.\n",
      "A CAR, a TRUCK, and a BUS were lined up at the traffic light.\n"
     ]
    }
   ],
   "source": [
    "trad = {\n",
    "    'truck': 'TRUCK',\n",
    "    'car': 'CAR',\n",
    "    'motorcycle': 'MOTORCYCLE',\n",
    "    'bus': 'BUS'\n",
    "}\n",
    "\n",
    "sentences = [\n",
    "    \"A truck hit a car on the highway.\",\n",
    "    \"The motorcycle overtook the bus quickly.\",\n",
    "    \"A car and a motorcycle were involved in an accident.\",\n",
    "    \"A truck, a car, and a bus were all damaged in the collision.\",\n",
    "    \"The bus stopped suddenly, causing the truck to swerve.\",\n",
    "    \"The motorcycle was faster than the car.\",\n",
    "    \"A car collided with a motorcycle and a bus.\",\n",
    "    \"The truck driver was unable to avoid the bus.\",\n",
    "    \"A motorcycle was parked behind a truck.\",\n",
    "    \"A car, a truck, and a bus were lined up at the traffic light.\"\n",
    "]\n",
    "\n",
    "# Replacing the words in each sentence\n",
    "for i, line in enumerate(sentences):\n",
    "    for key in trad:\n",
    "        if key in line :\n",
    "            line = line.replace(key, trad[key])\n",
    "            #print(line)\n",
    "\n",
    "    sentences[i] = line\n",
    "\n",
    "for sentence in sentences:\n",
    "    print(sentence)"
   ]
  }
 ],
 "metadata": {
  "kernelspec": {
   "display_name": "Python 3",
   "language": "python",
   "name": "python3"
  },
  "language_info": {
   "codemirror_mode": {
    "name": "ipython",
    "version": 3
   },
   "file_extension": ".py",
   "mimetype": "text/x-python",
   "name": "python",
   "nbconvert_exporter": "python",
   "pygments_lexer": "ipython3",
   "version": "3.12.4"
  }
 },
 "nbformat": 4,
 "nbformat_minor": 2
}
