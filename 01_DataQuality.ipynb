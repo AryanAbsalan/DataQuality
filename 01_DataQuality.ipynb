{
 "cells": [
  {
   "cell_type": "code",
   "execution_count": 1,
   "metadata": {},
   "outputs": [
    {
     "name": "stdout",
     "output_type": "stream",
     "text": [
      "   Customer ID     Name Postal code       Address   City Country\n",
      "0            1    Alice       12345   123 Main St  City1     USA\n",
      "1            2      Bob       67890    456 Oak St  City2     USA\n",
      "2            3  Charlie       54321   789 Pine St  City3     USA\n",
      "3            4    David       1234A  101 Maple St  City4     USA\n",
      "4            5      Eve       01000    202 Elm St  City5     USA\n"
     ]
    }
   ],
   "source": [
    "import pandas as pd\n",
    "\n",
    "# Sample data\n",
    "data = {\n",
    "    'Customer ID': [1, 2, 3, 4, 5],\n",
    "    'Name': ['Alice', 'Bob', 'Charlie', 'David', 'Eve'],\n",
    "    'Postal code': ['12345', '67890', '54321', '1234A', '01000'],\n",
    "    'Address': [\n",
    "        '123 Main St', \n",
    "        '456 Oak St', \n",
    "        '789 Pine St', \n",
    "        '101 Maple St', \n",
    "        '202 Elm St'\n",
    "    ],\n",
    "    'City': ['City1', 'City2', 'City3', 'City4', 'City5'],\n",
    "    'Country': ['USA', 'USA', 'USA', 'USA', 'USA']\n",
    "}\n",
    "\n",
    "# Create DataFrame\n",
    "customers = pd.DataFrame(data)\n",
    "\n",
    "# Display DataFrame\n",
    "print(customers)\n"
   ]
  },
  {
   "cell_type": "code",
   "execution_count": null,
   "metadata": {},
   "outputs": [],
   "source": [
    "# Condition 1: Postal code length is 5\n",
    "condition_1 = customers['Postal code'].str.len() == 5\n",
    "\n",
    "# Condition 2: All characters of the postal code are numerical\n",
    "condition_2 = customers['Postal code'].str.isnumeric()\n",
    "\n",
    "# Condition 3: Postal code is between '01000' and '96000'\n",
    "condition_3 = ('01000' < customers['Postal code']) & (customers['Postal code'] < '96000')\n",
    "\n",
    "# Check if all conditions are met across all rows\n",
    "all_conditions_met = (condition_1 & condition_2 & condition_3).sum() == customers.shape[0]\n",
    "\n",
    "print(\"All conditions met:\", all_conditions_met)\n"
   ]
  },
  {
   "cell_type": "code",
   "execution_count": 2,
   "metadata": {},
   "outputs": [
    {
     "name": "stdout",
     "output_type": "stream",
     "text": [
      "Unique cities before replacement: ['RENES' 'PERPINAN' 'PARIS LA DÉFENSE' 'PARIS' 'LYON' 'MARSEILLE' 'NICE']\n",
      "Unique cities after replacement: ['RENNES' 'PERPIGNAN' 'PARIS' 'LYON' 'MARSEILLE' 'NICE']\n"
     ]
    }
   ],
   "source": [
    "import pandas as pd\n",
    "\n",
    "# Sample data\n",
    "data = {\n",
    "    'Customer ID': [1, 2, 3, 4, 5, 6, 7],\n",
    "    'Name': ['Alice', 'Bob', 'Charlie', 'David', 'Eve', 'Frank', 'Grace'],\n",
    "    'Postal code': ['12345', '67890', '54321', '1234A', '01000', '67891', '54322'],\n",
    "    'Address': [\n",
    "        '123 Main St', \n",
    "        '456 Oak St', \n",
    "        '789 Pine St', \n",
    "        '101 Maple St', \n",
    "        '202 Elm St',\n",
    "        '303 Birch St',\n",
    "        '404 Cedar St'\n",
    "    ],\n",
    "    'City': ['RENES', 'PERPINAN', 'PARIS LA DÉFENSE', 'PARIS', 'LYON', 'MARSEILLE', 'NICE'],\n",
    "    'Country': ['France', 'France', 'France', 'France', 'France', 'France', 'France']\n",
    "}\n",
    "\n",
    "# Create DataFrame\n",
    "customers = pd.DataFrame(data)\n",
    "\n",
    "# Display unique cities before replacement\n",
    "print(\"Unique cities before replacement:\", customers['City'].unique())\n",
    "\n",
    "# Replace misspelled city names\n",
    "customers.replace({'RENES': 'RENNES', \n",
    "                   'PERPINAN': 'PERPIGNAN',\n",
    "                   'PARIS LA DÉFENSE': 'PARIS'},\n",
    "                  inplace=True)\n",
    "\n",
    "# Display unique cities after replacement\n",
    "print(\"Unique cities after replacement:\", customers['City'].unique())\n"
   ]
  },
  {
   "cell_type": "code",
   "execution_count": 7,
   "metadata": {},
   "outputs": [
    {
     "data": {
      "text/html": [
       "<div>\n",
       "<style scoped>\n",
       "    .dataframe tbody tr th:only-of-type {\n",
       "        vertical-align: middle;\n",
       "    }\n",
       "\n",
       "    .dataframe tbody tr th {\n",
       "        vertical-align: top;\n",
       "    }\n",
       "\n",
       "    .dataframe thead th {\n",
       "        text-align: right;\n",
       "    }\n",
       "</style>\n",
       "<table border=\"1\" class=\"dataframe\">\n",
       "  <thead>\n",
       "    <tr style=\"text-align: right;\">\n",
       "      <th></th>\n",
       "      <th>brand</th>\n",
       "      <th>style</th>\n",
       "      <th>rating</th>\n",
       "    </tr>\n",
       "  </thead>\n",
       "  <tbody>\n",
       "    <tr>\n",
       "      <th>0</th>\n",
       "      <td>Yum Yum</td>\n",
       "      <td>cup</td>\n",
       "      <td>4.0</td>\n",
       "    </tr>\n",
       "    <tr>\n",
       "      <th>1</th>\n",
       "      <td>Yum Yum</td>\n",
       "      <td>cup</td>\n",
       "      <td>4.0</td>\n",
       "    </tr>\n",
       "    <tr>\n",
       "      <th>2</th>\n",
       "      <td>Indomie</td>\n",
       "      <td>cup</td>\n",
       "      <td>3.5</td>\n",
       "    </tr>\n",
       "    <tr>\n",
       "      <th>3</th>\n",
       "      <td>Indomie</td>\n",
       "      <td>pack</td>\n",
       "      <td>15.0</td>\n",
       "    </tr>\n",
       "    <tr>\n",
       "      <th>4</th>\n",
       "      <td>Indomie</td>\n",
       "      <td>pack</td>\n",
       "      <td>5.0</td>\n",
       "    </tr>\n",
       "  </tbody>\n",
       "</table>\n",
       "</div>"
      ],
      "text/plain": [
       "     brand style  rating\n",
       "0  Yum Yum   cup     4.0\n",
       "1  Yum Yum   cup     4.0\n",
       "2  Indomie   cup     3.5\n",
       "3  Indomie  pack    15.0\n",
       "4  Indomie  pack     5.0"
      ]
     },
     "execution_count": 7,
     "metadata": {},
     "output_type": "execute_result"
    }
   ],
   "source": [
    "df = pd.DataFrame({ 'brand': ['Yum Yum', 'Yum Yum', 'Indomie', 'Indomie', 'Indomie'],\n",
    "                     'style': ['cup', 'cup', 'cup', 'pack', 'pack'],\n",
    "                     'rating': [4, 4, 3.5, 15, 5] })\n",
    "\n",
    "df"
   ]
  },
  {
   "cell_type": "code",
   "execution_count": 14,
   "metadata": {},
   "outputs": [
    {
     "name": "stdout",
     "output_type": "stream",
     "text": [
      "Number of duplicates: 1\n"
     ]
    }
   ],
   "source": [
    "print(\"Number of duplicates:\", df.duplicated().sum())"
   ]
  },
  {
   "cell_type": "code",
   "execution_count": 4,
   "metadata": {},
   "outputs": [
    {
     "data": {
      "text/html": [
       "<div>\n",
       "<style scoped>\n",
       "    .dataframe tbody tr th:only-of-type {\n",
       "        vertical-align: middle;\n",
       "    }\n",
       "\n",
       "    .dataframe tbody tr th {\n",
       "        vertical-align: top;\n",
       "    }\n",
       "\n",
       "    .dataframe thead th {\n",
       "        text-align: right;\n",
       "    }\n",
       "</style>\n",
       "<table border=\"1\" class=\"dataframe\">\n",
       "  <thead>\n",
       "    <tr style=\"text-align: right;\">\n",
       "      <th></th>\n",
       "      <th>brand</th>\n",
       "      <th>style</th>\n",
       "      <th>rating</th>\n",
       "    </tr>\n",
       "  </thead>\n",
       "  <tbody>\n",
       "    <tr>\n",
       "      <th>0</th>\n",
       "      <td>Yum Yum</td>\n",
       "      <td>cup</td>\n",
       "      <td>4.0</td>\n",
       "    </tr>\n",
       "    <tr>\n",
       "      <th>2</th>\n",
       "      <td>Indomie</td>\n",
       "      <td>cup</td>\n",
       "      <td>3.5</td>\n",
       "    </tr>\n",
       "    <tr>\n",
       "      <th>3</th>\n",
       "      <td>Indomie</td>\n",
       "      <td>pack</td>\n",
       "      <td>15.0</td>\n",
       "    </tr>\n",
       "    <tr>\n",
       "      <th>4</th>\n",
       "      <td>Indomie</td>\n",
       "      <td>pack</td>\n",
       "      <td>5.0</td>\n",
       "    </tr>\n",
       "  </tbody>\n",
       "</table>\n",
       "</div>"
      ],
      "text/plain": [
       "     brand style  rating\n",
       "0  Yum Yum   cup     4.0\n",
       "2  Indomie   cup     3.5\n",
       "3  Indomie  pack    15.0\n",
       "4  Indomie  pack     5.0"
      ]
     },
     "execution_count": 4,
     "metadata": {},
     "output_type": "execute_result"
    }
   ],
   "source": [
    "df.drop_duplicates()"
   ]
  },
  {
   "cell_type": "code",
   "execution_count": 5,
   "metadata": {},
   "outputs": [
    {
     "data": {
      "text/html": [
       "<div>\n",
       "<style scoped>\n",
       "    .dataframe tbody tr th:only-of-type {\n",
       "        vertical-align: middle;\n",
       "    }\n",
       "\n",
       "    .dataframe tbody tr th {\n",
       "        vertical-align: top;\n",
       "    }\n",
       "\n",
       "    .dataframe thead th {\n",
       "        text-align: right;\n",
       "    }\n",
       "</style>\n",
       "<table border=\"1\" class=\"dataframe\">\n",
       "  <thead>\n",
       "    <tr style=\"text-align: right;\">\n",
       "      <th></th>\n",
       "      <th>brand</th>\n",
       "      <th>style</th>\n",
       "      <th>rating</th>\n",
       "    </tr>\n",
       "  </thead>\n",
       "  <tbody>\n",
       "    <tr>\n",
       "      <th>1</th>\n",
       "      <td>Yum Yum</td>\n",
       "      <td>cup</td>\n",
       "      <td>4.0</td>\n",
       "    </tr>\n",
       "    <tr>\n",
       "      <th>2</th>\n",
       "      <td>Indomie</td>\n",
       "      <td>cup</td>\n",
       "      <td>3.5</td>\n",
       "    </tr>\n",
       "    <tr>\n",
       "      <th>4</th>\n",
       "      <td>Indomie</td>\n",
       "      <td>pack</td>\n",
       "      <td>5.0</td>\n",
       "    </tr>\n",
       "  </tbody>\n",
       "</table>\n",
       "</div>"
      ],
      "text/plain": [
       "     brand style  rating\n",
       "1  Yum Yum   cup     4.0\n",
       "2  Indomie   cup     3.5\n",
       "4  Indomie  pack     5.0"
      ]
     },
     "execution_count": 5,
     "metadata": {},
     "output_type": "execute_result"
    }
   ],
   "source": [
    "df.drop_duplicates(subset=['brand', 'style'], keep='last')"
   ]
  },
  {
   "cell_type": "code",
   "execution_count": 15,
   "metadata": {},
   "outputs": [
    {
     "data": {
      "text/plain": [
       "Timestamp('2018-10-26 12:00:00')"
      ]
     },
     "execution_count": 15,
     "metadata": {},
     "output_type": "execute_result"
    }
   ],
   "source": [
    "pd.to_datetime('2018-10-26 12:00:00',\n",
    "               format='%Y-%m-%d %H:%M:%S')"
   ]
  },
  {
   "cell_type": "code",
   "execution_count": 20,
   "metadata": {},
   "outputs": [
    {
     "data": {
      "text/plain": [
       "DatetimeIndex(['1960-01-02', '1960-01-03', '1960-01-04'], dtype='datetime64[ns]', freq=None)"
      ]
     },
     "execution_count": 20,
     "metadata": {},
     "output_type": "execute_result"
    }
   ],
   "source": [
    "pd.to_datetime([1, 2, 3], unit='D',\n",
    "            origin=pd.Timestamp('1960-01-01'))\n"
   ]
  },
  {
   "cell_type": "code",
   "execution_count": 19,
   "metadata": {},
   "outputs": [
    {
     "data": {
      "text/plain": [
       "DatetimeIndex(['1960-01-01', '1960-01-02', '1960-01-03'], dtype='datetime64[ns]', freq=None)"
      ]
     },
     "execution_count": 19,
     "metadata": {},
     "output_type": "execute_result"
    }
   ],
   "source": [
    "\n",
    "pd.to_datetime([0, 1, 2], unit='D',\n",
    "            origin=pd.Timestamp('1960-01-01'))"
   ]
  },
  {
   "cell_type": "code",
   "execution_count": 21,
   "metadata": {},
   "outputs": [
    {
     "data": {
      "text/plain": [
       "datetime.timedelta(days=64, seconds=29156, microseconds=10)"
      ]
     },
     "execution_count": 21,
     "metadata": {},
     "output_type": "execute_result"
    }
   ],
   "source": [
    "from datetime import timedelta\n",
    "delta = timedelta(\n",
    "    days=50,\n",
    "    seconds=27,\n",
    "    microseconds=10,\n",
    "    milliseconds=29000,\n",
    "    minutes=5,\n",
    "    hours=8,\n",
    "    weeks=2\n",
    ")\n",
    "# Only days, seconds, and microseconds remain\n",
    "delta"
   ]
  },
  {
   "cell_type": "code",
   "execution_count": 24,
   "metadata": {},
   "outputs": [
    {
     "name": "stdout",
     "output_type": "stream",
     "text": [
      "   Order ID   Product Order date Delivery date  Quantity  Price\n",
      "0         1    Laptop 2017-01-15    2017-01-20         1   1200\n",
      "1         2     Phone 2017-03-22    2017-03-27         2    800\n",
      "2         3    Tablet 2017-05-10    2017-05-15         3    300\n",
      "3         4   Monitor 2017-07-18    2017-07-23         1    200\n",
      "4         5  Keyboard 2017-09-25    2017-09-30         5     50\n"
     ]
    }
   ],
   "source": [
    "import pandas as pd\n",
    "from datetime import datetime as dt\n",
    "\n",
    "# Sample data\n",
    "data = {\n",
    "    'Order ID': [1, 2, 3, 4, 5],\n",
    "    'Product': ['Laptop', 'Phone', 'Tablet', 'Monitor', 'Keyboard'],\n",
    "    'Order date': ['01/15/17', '03/22/17', '05/10/17', '07/18/17', '09/25/17'],\n",
    "    'Delivery date': ['2017-01-20', '2017-03-27', '2017-05-15', '2017-07-23', '2017-09-30'],\n",
    "    'Quantity': [1, 2, 3, 1, 5],\n",
    "    'Price': [1200, 800, 300, 200, 50]\n",
    "}\n",
    "\n",
    "# Create DataFrame\n",
    "Sales_2017 = pd.DataFrame(data)\n",
    "\n",
    "# Apply the transformations\n",
    "Sales_2017['Order date'] = Sales_2017['Order date'].apply(lambda x: dt.strptime(x, \"%m/%d/%y\"))     # new datetime parsed from a string\n",
    "Sales_2017['Delivery date'] = Sales_2017['Delivery date'].apply(lambda x: dt.strptime(x, \"%Y-%m-%d\"))\n",
    "\n",
    "# Display the DataFrame\n",
    "print(Sales_2017)\n"
   ]
  },
  {
   "cell_type": "code",
   "execution_count": 25,
   "metadata": {},
   "outputs": [
    {
     "name": "stdout",
     "output_type": "stream",
     "text": [
      "Product IDs present in 2018 but not in 2017: {'P008', 'P007', 'P006'}\n"
     ]
    }
   ],
   "source": [
    "import pandas as pd\n",
    "\n",
    "# Sample data for Sales_2017\n",
    "data_2017 = {\n",
    "    'Order ID': [1, 2, 3, 4, 5],\n",
    "    'Product Id': ['P001', 'P002', 'P003', 'P004', 'P005'],\n",
    "    'Product': ['Laptop', 'Phone', 'Tablet', 'Monitor', 'Keyboard'],\n",
    "    'Order date': ['01/15/17', '03/22/17', '05/10/17', '07/18/17', '09/25/17'],\n",
    "    'Quantity': [1, 2, 3, 1, 5],\n",
    "    'Price': [1200, 800, 300, 200, 50]\n",
    "}\n",
    "\n",
    "# Sample data for Sales_2018\n",
    "data_2018 = {\n",
    "    'Order ID': [6, 7, 8, 9, 10],\n",
    "    'Product Id': ['P002', 'P003', 'P006', 'P007', 'P008'],\n",
    "    'Product': ['Phone', 'Tablet', 'Headphones', 'Charger', 'Mouse'],\n",
    "    'Order date': ['02/15/18', '04/22/18', '06/10/18', '08/18/18', '10/25/18'],\n",
    "    'Quantity': [1, 2, 3, 1, 5],\n",
    "    'Price': [850, 320, 150, 20, 25]\n",
    "}\n",
    "\n",
    "# Create DataFrames\n",
    "Sales_2017 = pd.DataFrame(data_2017)\n",
    "Sales_2018 = pd.DataFrame(data_2018)\n",
    "\n",
    "# Find the difference in product IDs\n",
    "A = set(Sales_2017['Product Id'])\n",
    "B = set(Sales_2018['Product Id'])\n",
    "new_products_2018 = B - A\n",
    "\n",
    "print(\"Product IDs present in 2018 but not in 2017:\", new_products_2018)\n"
   ]
  }
 ],
 "metadata": {
  "kernelspec": {
   "display_name": "Python 3",
   "language": "python",
   "name": "python3"
  },
  "language_info": {
   "codemirror_mode": {
    "name": "ipython",
    "version": 3
   },
   "file_extension": ".py",
   "mimetype": "text/x-python",
   "name": "python",
   "nbconvert_exporter": "python",
   "pygments_lexer": "ipython3",
   "version": "3.12.4"
  }
 },
 "nbformat": 4,
 "nbformat_minor": 2
}
