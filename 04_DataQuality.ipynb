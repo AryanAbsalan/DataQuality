{
 "cells": [
  {
   "cell_type": "code",
   "execution_count": null,
   "metadata": {},
   "outputs": [],
   "source": [
    "import pandas as pd\n",
    "\n",
    "# Sample DataFrame\n",
    "data = {\n",
    "    'currency_buyer': ['USD', 'EUR', 'GBP', 'USD', 'AUD'],\n",
    "    'price': [25, 30, 20, 35, 40],\n",
    "    'retail_price': [30, 35, 25, 40, 45]\n",
    "}\n",
    "\n",
    "df = pd.DataFrame(data)\n",
    "\n",
    "# Conversion rates from other currencies to EUR\n",
    "conversion = {\n",
    "    'EUR': 1.000,\n",
    "    'USD': 0.852,\n",
    "    'GBP': 1.102,\n",
    "    'CHF': 0.929,\n",
    "    'AUD': 0.611\n",
    "}\n",
    "\n",
    "# Applying conversion based on currency_buyer to convert price to EUR\n",
    "for key, currency in enumerate(df['currency_buyer']):\n",
    "    if currency != 'EUR':\n",
    "        df.loc[key, 'price'] = df.loc[key, 'price'] * conversion[currency]\n",
    "        df.loc[key, 'retail_price'] = df.loc[key, 'retail_price'] * conversion[currency]\n",
    "\n",
    "print(df)\n",
    "\n"
   ]
  },
  {
   "cell_type": "code",
   "execution_count": 7,
   "metadata": {},
   "outputs": [
    {
     "name": "stdout",
     "output_type": "stream",
     "text": [
      "The is being created for writing.\n",
      " A new line is being added to the file\n"
     ]
    }
   ],
   "source": [
    "with open(\"meta_data.txt\", \"w\") as f:\n",
    "    f.write(\"The is being created for writing.\\n \")\n",
    "\n",
    "with open(\"meta_data.txt\", \"a\") as f:\n",
    "    f.write(\"A new line is being added to the file\")\n",
    "\n",
    "with open (\"meta_data.txt\", \"r\") as f:\n",
    "    f_contents = f.read()\n",
    "    print(f_contents)"
   ]
  },
  {
   "cell_type": "code",
   "execution_count": 17,
   "metadata": {},
   "outputs": [
    {
     "name": "stdout",
     "output_type": "stream",
     "text": [
      "Original DataFrame:\n"
     ]
    },
    {
     "data": {
      "text/html": [
       "<div>\n",
       "<style scoped>\n",
       "    .dataframe tbody tr th:only-of-type {\n",
       "        vertical-align: middle;\n",
       "    }\n",
       "\n",
       "    .dataframe tbody tr th {\n",
       "        vertical-align: top;\n",
       "    }\n",
       "\n",
       "    .dataframe thead th {\n",
       "        text-align: right;\n",
       "    }\n",
       "</style>\n",
       "<table border=\"1\" class=\"dataframe\">\n",
       "  <thead>\n",
       "    <tr style=\"text-align: right;\">\n",
       "      <th></th>\n",
       "      <th>product_id</th>\n",
       "      <th>product_name</th>\n",
       "      <th>price</th>\n",
       "      <th>limited_quantity</th>\n",
       "    </tr>\n",
       "  </thead>\n",
       "  <tbody>\n",
       "    <tr>\n",
       "      <th>0</th>\n",
       "      <td>1</td>\n",
       "      <td>Product A</td>\n",
       "      <td>20</td>\n",
       "      <td>True</td>\n",
       "    </tr>\n",
       "    <tr>\n",
       "      <th>1</th>\n",
       "      <td>2</td>\n",
       "      <td>Product B</td>\n",
       "      <td>25</td>\n",
       "      <td>False</td>\n",
       "    </tr>\n",
       "    <tr>\n",
       "      <th>2</th>\n",
       "      <td>3</td>\n",
       "      <td>Product A</td>\n",
       "      <td>20</td>\n",
       "      <td>False</td>\n",
       "    </tr>\n",
       "    <tr>\n",
       "      <th>3</th>\n",
       "      <td>4</td>\n",
       "      <td>Product C</td>\n",
       "      <td>30</td>\n",
       "      <td>False</td>\n",
       "    </tr>\n",
       "    <tr>\n",
       "      <th>4</th>\n",
       "      <td>5</td>\n",
       "      <td>Product D</td>\n",
       "      <td>35</td>\n",
       "      <td>True</td>\n",
       "    </tr>\n",
       "  </tbody>\n",
       "</table>\n",
       "</div>"
      ],
      "text/plain": [
       "   product_id product_name  price  limited_quantity\n",
       "0           1    Product A     20              True\n",
       "1           2    Product B     25             False\n",
       "2           3    Product A     20             False\n",
       "3           4    Product C     30             False\n",
       "4           5    Product D     35              True"
      ]
     },
     "execution_count": 17,
     "metadata": {},
     "output_type": "execute_result"
    }
   ],
   "source": [
    "\n",
    "# Sample DataFrame\n",
    "data = {\n",
    "    'product_id': [1, 2, 3, 4, 5],\n",
    "    'product_name': ['Product A', 'Product B', 'Product A', 'Product C', 'Product D'],\n",
    "    'price': [20, 25, 20, 30, 35],\n",
    "    'limited_quantity': [True, False, False, False, True]\n",
    "}\n",
    "\n",
    "df = pd.DataFrame(data)\n",
    "\n",
    "print(\"Original DataFrame:\")\n",
    "df"
   ]
  },
  {
   "cell_type": "code",
   "execution_count": 18,
   "metadata": {},
   "outputs": [
    {
     "name": "stdout",
     "output_type": "stream",
     "text": [
      "DataFrame after dropping duplicates based on 'product_name' and 'price':\n",
      "   product_id product_name  price  limited_quantity\n",
      "0           1    Product A     20              True\n",
      "1           2    Product B     25             False\n",
      "2           3    Product A     20             False\n",
      "3           4    Product C     30             False\n",
      "4           5    Product D     35              True\n"
     ]
    }
   ],
   "source": [
    "\n",
    "\n",
    "# Drop duplicates based on specific subset of columns\n",
    "df.drop_duplicates(subset=['product_name', 'price','limited_quantity'], inplace=True)\n",
    "\n",
    "print(\"DataFrame after dropping duplicates based on 'product_name', 'price' and 'limited_quantity':\")\n",
    "print(df)"
   ]
  },
  {
   "cell_type": "code",
   "execution_count": null,
   "metadata": {},
   "outputs": [],
   "source": [
    "# Drop duplicates based on specific subset of columns\n",
    "df.drop_duplicates(subset=['product_name', 'price'], inplace=True)\n",
    "\n",
    "print(\"DataFrame after dropping duplicates based on 'product_name' and 'price':\")\n",
    "print(df)"
   ]
  },
  {
   "cell_type": "code",
   "execution_count": 1,
   "metadata": {},
   "outputs": [
    {
     "name": "stdout",
     "output_type": "stream",
     "text": [
      "Original DataFrame:\n",
      "   id     name  limited_quantity\n",
      "0   1    Alice                 5\n",
      "1   1    Alice                10\n",
      "2   2      Bob                 5\n",
      "3   2      Bob                10\n",
      "4   3  Charlie                 5\n",
      "5   3  Charlie                10\n",
      "\n",
      "DataFrame after dropping duplicates (excluding 'limited_quantity', keeping last occurrence):\n",
      "   id     name  limited_quantity\n",
      "1   1    Alice                10\n",
      "3   2      Bob                10\n",
      "5   3  Charlie                10\n"
     ]
    }
   ],
   "source": [
    "import pandas as pd\n",
    "\n",
    "# Sample data\n",
    "data = {\n",
    "    'id': [1, 1, 2, 2, 3, 3],\n",
    "    'name': ['Alice', 'Alice', 'Bob', 'Bob', 'Charlie', 'Charlie'],\n",
    "    'limited_quantity': [5, 10, 5, 10, 5, 10]\n",
    "}\n",
    "\n",
    "df = pd.DataFrame(data)\n",
    "\n",
    "print(\"Original DataFrame:\")\n",
    "print(df)\n",
    "\n",
    "# Remove duplicates considering all columns except 'limited_quantity', keep the last occurrence\n",
    "df.drop_duplicates(subset=df.columns.drop('limited_quantity'), keep='last', inplace=True)\n",
    "\n",
    "print(\"\\nDataFrame after dropping duplicates (excluding 'limited_quantity', keeping last occurrence):\")\n",
    "print(df)\n"
   ]
  },
  {
   "cell_type": "code",
   "execution_count": 2,
   "metadata": {},
   "outputs": [
    {
     "data": {
      "image/png": "[encoded data removed]",
      "text/plain": [
       "<Figure size 1600x1000 with 1 Axes>"
      ]
     },
     "metadata": {},
     "output_type": "display_data"
    }
   ],
   "source": [
    "import pandas as pd\n",
    "import numpy as np\n",
    "import seaborn as sns\n",
    "import matplotlib.pyplot as plt\n",
    "\n",
    "# Create a synthetic dataset\n",
    "np.random.seed(0)\n",
    "data = {\n",
    "    'A': np.random.randint(1, 100, 200),\n",
    "    'B': np.random.choice([np.nan, *range(1, 100)], 200, p=[0.1] + [0.9/99]*99),\n",
    "    'C': np.random.choice([np.nan, *range(1, 100)], 200, p=[0.2] + [0.8/99]*99),\n",
    "    'D': np.random.choice([np.nan, *range(1, 100)], 200, p=[0.15] + [0.85/99]*99),\n",
    "    'E': np.random.choice([np.nan, *range(1, 100)], 200, p=[0.05] + [0.95/99]*99),\n",
    "}\n",
    "\n",
    "df = pd.DataFrame(data)\n",
    "\n",
    "# Display the heatmap of missing values\n",
    "plt.figure(figsize=(16,10))\n",
    "sns.heatmap(df.isna(), cbar=False, cmap='viridis')\n",
    "plt.title('Heatmap of Missing Values')\n",
    "plt.show()\n"
   ]
  },
  {
   "cell_type": "code",
   "execution_count": 3,
   "metadata": {},
   "outputs": [
    {
     "name": "stdout",
     "output_type": "stream",
     "text": [
      "Original DataFrame:\n",
      "   id     name merchant_info_subtitle\n",
      "0   1    Alice                  Info1\n",
      "1   2      Bob                    NaN\n",
      "2   3  Charlie                  Info3\n",
      "3   4    David                  Info4\n",
      "4   5      Eve                    NaN\n",
      "5   6    Frank                  Info6\n",
      "\n",
      "DataFrame after dropping the last row with missing value in 'merchant_info_subtitle':\n",
      "   id     name merchant_info_subtitle\n",
      "0   1    Alice                  Info1\n",
      "1   2      Bob                    NaN\n",
      "2   3  Charlie                  Info3\n",
      "3   4    David                  Info4\n",
      "5   6    Frank                  Info6\n"
     ]
    }
   ],
   "source": [
    "import pandas as pd\n",
    "import numpy as np\n",
    "\n",
    "# Create a sample DataFrame\n",
    "data = {\n",
    "    'id': [1, 2, 3, 4, 5, 6],\n",
    "    'name': ['Alice', 'Bob', 'Charlie', 'David', 'Eve', 'Frank'],\n",
    "    'merchant_info_subtitle': ['Info1', np.nan, 'Info3', 'Info4', np.nan, 'Info6']\n",
    "}\n",
    "df = pd.DataFrame(data)\n",
    "\n",
    "# Display the original DataFrame\n",
    "print(\"Original DataFrame:\")\n",
    "print(df)\n",
    "\n",
    "# Identify the last row containing a missing value in 'merchant_info_subtitle'\n",
    "last_na_index = df[df['merchant_info_subtitle'].isna()].index[-1]\n",
    "\n",
    "# Drop that row\n",
    "df.drop(last_na_index, inplace=True)\n",
    "\n",
    "# Display the updated DataFrame\n",
    "print(\"\\nDataFrame after dropping the last row with missing value in 'merchant_info_subtitle':\")\n",
    "print(df)\n"
   ]
  },
  {
   "cell_type": "code",
   "execution_count": null,
   "metadata": {},
   "outputs": [],
   "source": [
    "import pandas as pd\n",
    "import numpy as np\n",
    "\n",
    "# Create a sample DataFrame\n",
    "data = {\n",
    "    'id': [1, 2, 3, 4, 5, 6],\n",
    "    'name': ['Alice', 'Bob', 'Charlie', 'David', 'Eve', 'Frank'],\n",
    "    'merchant_info_subtitle': ['Info1', np.nan, 'Info3', 'Info4', np.nan, 'Info6'],\n",
    "    'new_column' : ['A', 'B', 'C', 'D', 'E', 'F']\n",
    "}\n",
    "df = pd.DataFrame(data)\n",
    "\n",
    "# Display the original DataFrame\n",
    "print(\"Original DataFrame:\")\n",
    "print(df)\n",
    "\n",
    "# Drop all rows with null values only from the 'merchant_info_subtitle' column\n",
    "df.dropna(subset=['merchant_info_subtitle'], inplace=True)\n",
    "\n",
    "# Display the updated DataFrame\n",
    "print(\"\\nDataFrame after adding a new column and dropping rows with null values from 'merchant_info_subtitle':\")\n",
    "print(df)\n"
   ]
  }
 ],
 "metadata": {
  "kernelspec": {
   "display_name": "Python 3",
   "language": "python",
   "name": "python3"
  },
  "language_info": {
   "codemirror_mode": {
    "name": "ipython",
    "version": 3
   },
   "file_extension": ".py",
   "mimetype": "text/x-python",
   "name": "python",
   "nbconvert_exporter": "python",
   "pygments_lexer": "ipython3",
   "version": "3.12.4"
  }
 },
 "nbformat": 4,
 "nbformat_minor": 2
}
